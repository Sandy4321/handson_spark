{
 "cells": [
  {
   "cell_type": "code",
   "execution_count": 44,
   "metadata": {},
   "outputs": [
    {
     "name": "stdout",
     "output_type": "stream",
     "text": [
      "2.7.15\n"
     ]
    }
   ],
   "source": [
    "import pandas as pd \n",
    "import numpy as np\n",
    "import platform\n",
    "print(platform.python_version())"
   ]
  },
  {
   "cell_type": "code",
   "execution_count": 45,
   "metadata": {},
   "outputs": [],
   "source": [
    "data_path='D:/curso_linkage/dataset_a_v3.csv'\n",
    "df_a=pd.read_csv(data_path, sep=';')"
   ]
  },
  {
   "cell_type": "code",
   "execution_count": 46,
   "metadata": {},
   "outputs": [],
   "source": [
    "data_path='D:/curso_linkage/dataset_b_v3.csv'\n",
    "df_b=pd.read_csv(data_path, sep=';')"
   ]
  },
  {
   "cell_type": "code",
   "execution_count": 47,
   "metadata": {},
   "outputs": [
    {
     "data": {
      "text/plain": [
       "cod               int64\n",
       "nome             object\n",
       "dn               object\n",
       "sexo             object\n",
       "mae              object\n",
       "cidade            int64\n",
       "primeiro_nome    object\n",
       "dtype: object"
      ]
     },
     "execution_count": 47,
     "metadata": {},
     "output_type": "execute_result"
    }
   ],
   "source": [
    "df_a.dtypes"
   ]
  },
  {
   "cell_type": "code",
   "execution_count": 48,
   "metadata": {},
   "outputs": [
    {
     "data": {
      "text/plain": [
       "cod               int64\n",
       "nome             object\n",
       "dn               object\n",
       "sexo             object\n",
       "mae              object\n",
       "cidade            int64\n",
       "primeiro_nome    object\n",
       "dtype: object"
      ]
     },
     "execution_count": 48,
     "metadata": {},
     "output_type": "execute_result"
    }
   ],
   "source": [
    "df_b.dtypes"
   ]
  },
  {
   "cell_type": "code",
   "execution_count": 30,
   "metadata": {},
   "outputs": [],
   "source": [
    "#df_b.to_csv(\"D:/curso_linkage/dataset_b_preprocess_v2.csv\",sep=\";\",index=False)\n",
    "#df_b['dn'] = df_b['dn'].dt.strftime('%m/%d/%Y')"
   ]
  },
  {
   "cell_type": "code",
   "execution_count": null,
   "metadata": {},
   "outputs": [],
   "source": [
    "#df_a['primeiro_nome'] = df_a['nome'].str.split(' ', 1).str[0]\n",
    "#df_b['primeiro_nome'] = df_b['nome'].str.split(' ', 1).str[0]"
   ]
  },
  {
   "cell_type": "code",
   "execution_count": 33,
   "metadata": {},
   "outputs": [
    {
     "data": {
      "text/plain": [
       "(100, 7)"
      ]
     },
     "execution_count": 33,
     "metadata": {},
     "output_type": "execute_result"
    }
   ],
   "source": [
    "df_a.shape\n"
   ]
  },
  {
   "cell_type": "code",
   "execution_count": 34,
   "metadata": {},
   "outputs": [
    {
     "data": {
      "text/plain": [
       "(20, 7)"
      ]
     },
     "execution_count": 34,
     "metadata": {},
     "output_type": "execute_result"
    }
   ],
   "source": [
    "df_b.shape"
   ]
  },
  {
   "cell_type": "code",
   "execution_count": 35,
   "metadata": {},
   "outputs": [
    {
     "data": {
      "text/plain": [
       "cod               int64\n",
       "nome             object\n",
       "dn               object\n",
       "sexo             object\n",
       "mae              object\n",
       "cidade            int64\n",
       "primeiro_nome    object\n",
       "dtype: object"
      ]
     },
     "execution_count": 35,
     "metadata": {},
     "output_type": "execute_result"
    }
   ],
   "source": [
    "df_a.dtypes"
   ]
  },
  {
   "cell_type": "code",
   "execution_count": 36,
   "metadata": {},
   "outputs": [
    {
     "data": {
      "text/plain": [
       "cod               int64\n",
       "nome             object\n",
       "dn               object\n",
       "sexo             object\n",
       "mae              object\n",
       "cidade            int64\n",
       "primeiro_nome    object\n",
       "dtype: object"
      ]
     },
     "execution_count": 36,
     "metadata": {},
     "output_type": "execute_result"
    }
   ],
   "source": [
    "df_b.dtypes"
   ]
  },
  {
   "cell_type": "code",
   "execution_count": 16,
   "metadata": {},
   "outputs": [
    {
     "data": {
      "text/html": [
       "<div>\n",
       "<style scoped>\n",
       "    .dataframe tbody tr th:only-of-type {\n",
       "        vertical-align: middle;\n",
       "    }\n",
       "\n",
       "    .dataframe tbody tr th {\n",
       "        vertical-align: top;\n",
       "    }\n",
       "\n",
       "    .dataframe thead th {\n",
       "        text-align: right;\n",
       "    }\n",
       "</style>\n",
       "<table border=\"1\" class=\"dataframe\">\n",
       "  <thead>\n",
       "    <tr style=\"text-align: right;\">\n",
       "      <th></th>\n",
       "      <th>cod</th>\n",
       "      <th>nome</th>\n",
       "      <th>dn</th>\n",
       "      <th>sexo</th>\n",
       "      <th>mae</th>\n",
       "      <th>cidade</th>\n",
       "      <th>primeiro_nome</th>\n",
       "    </tr>\n",
       "  </thead>\n",
       "  <tbody>\n",
       "    <tr>\n",
       "      <th>0</th>\n",
       "      <td>1</td>\n",
       "      <td>EDSON GOMES    DOS SANTOS</td>\n",
       "      <td>1-01-2007</td>\n",
       "      <td>1</td>\n",
       "      <td>WEDILAINE VIEIRA BEZERRA</td>\n",
       "      <td>280030</td>\n",
       "      <td>EDSON</td>\n",
       "    </tr>\n",
       "    <tr>\n",
       "      <th>1</th>\n",
       "      <td>2</td>\n",
       "      <td>ALESSANDRA KAUANÈ SOUZA DOS SANTOS</td>\n",
       "      <td>1-02-2008</td>\n",
       "      <td>2</td>\n",
       "      <td>VITORIA LUCIA AMORIM DE SOUZA</td>\n",
       "      <td>280740</td>\n",
       "      <td>ALESSANDRA</td>\n",
       "    </tr>\n",
       "    <tr>\n",
       "      <th>2</th>\n",
       "      <td>3</td>\n",
       "      <td>DAVI GONÇALVES DA &amp;Ä!! ROCHA</td>\n",
       "      <td>1-04-2007</td>\n",
       "      <td>1</td>\n",
       "      <td>VILMA GOMES MOREIRA</td>\n",
       "      <td>280030</td>\n",
       "      <td>DAVI</td>\n",
       "    </tr>\n",
       "    <tr>\n",
       "      <th>3</th>\n",
       "      <td>4</td>\n",
       "      <td>ALISON DE JESUS TAVARES</td>\n",
       "      <td>1-05-2007</td>\n",
       "      <td>2</td>\n",
       "      <td>VERA LUCIA FRANCISCO PRECOPE</td>\n",
       "      <td>280030</td>\n",
       "      <td>ALISON</td>\n",
       "    </tr>\n",
       "    <tr>\n",
       "      <th>4</th>\n",
       "      <td>5</td>\n",
       "      <td>DANNYEL COSTA DE MORAES</td>\n",
       "      <td>1-12-2006</td>\n",
       "      <td>1</td>\n",
       "      <td>VANILDA TRINDADE PEREIRA</td>\n",
       "      <td>280030</td>\n",
       "      <td>DANNYEL</td>\n",
       "    </tr>\n",
       "  </tbody>\n",
       "</table>\n",
       "</div>"
      ],
      "text/plain": [
       "   cod                                nome         dn sexo  \\\n",
       "0    1           EDSON GOMES    DOS SANTOS  1-01-2007    1   \n",
       "1    2  ALESSANDRA KAUANÈ SOUZA DOS SANTOS  1-02-2008    2   \n",
       "2    3        DAVI GONÇALVES DA &Ä!! ROCHA  1-04-2007    1   \n",
       "3    4             ALISON DE JESUS TAVARES  1-05-2007    2   \n",
       "4    5             DANNYEL COSTA DE MORAES  1-12-2006    1   \n",
       "\n",
       "                             mae  cidade primeiro_nome  \n",
       "0       WEDILAINE VIEIRA BEZERRA  280030         EDSON  \n",
       "1  VITORIA LUCIA AMORIM DE SOUZA  280740    ALESSANDRA  \n",
       "2            VILMA GOMES MOREIRA  280030          DAVI  \n",
       "3   VERA LUCIA FRANCISCO PRECOPE  280030        ALISON  \n",
       "4       VANILDA TRINDADE PEREIRA  280030       DANNYEL  "
      ]
     },
     "execution_count": 16,
     "metadata": {},
     "output_type": "execute_result"
    }
   ],
   "source": [
    "df_a.head()"
   ]
  },
  {
   "cell_type": "code",
   "execution_count": 17,
   "metadata": {
    "scrolled": true
   },
   "outputs": [
    {
     "data": {
      "text/html": [
       "<div>\n",
       "<style scoped>\n",
       "    .dataframe tbody tr th:only-of-type {\n",
       "        vertical-align: middle;\n",
       "    }\n",
       "\n",
       "    .dataframe tbody tr th {\n",
       "        vertical-align: top;\n",
       "    }\n",
       "\n",
       "    .dataframe thead th {\n",
       "        text-align: right;\n",
       "    }\n",
       "</style>\n",
       "<table border=\"1\" class=\"dataframe\">\n",
       "  <thead>\n",
       "    <tr style=\"text-align: right;\">\n",
       "      <th></th>\n",
       "      <th>cod</th>\n",
       "      <th>nome</th>\n",
       "      <th>dn</th>\n",
       "      <th>sexo</th>\n",
       "      <th>mae</th>\n",
       "      <th>cidade</th>\n",
       "      <th>primeiro_nome</th>\n",
       "    </tr>\n",
       "  </thead>\n",
       "  <tbody>\n",
       "    <tr>\n",
       "      <th>0</th>\n",
       "      <td>1</td>\n",
       "      <td>EDU PEREIRA TAVACHO</td>\n",
       "      <td>09/13/2007</td>\n",
       "      <td>1</td>\n",
       "      <td>SIMONE ANTONIA RODRIGUES</td>\n",
       "      <td>280030</td>\n",
       "      <td>EDU</td>\n",
       "    </tr>\n",
       "    <tr>\n",
       "      <th>1</th>\n",
       "      <td>2</td>\n",
       "      <td>JOSE IGOR SANTANA DOS SANTOS</td>\n",
       "      <td>05/17/2007</td>\n",
       "      <td>1</td>\n",
       "      <td>NICOLINA FATIMA MACHADO</td>\n",
       "      <td>280030</td>\n",
       "      <td>JOSE</td>\n",
       "    </tr>\n",
       "    <tr>\n",
       "      <th>2</th>\n",
       "      <td>3</td>\n",
       "      <td>JOSE ITALO SANTANA SANTOS</td>\n",
       "      <td>09/17/2006</td>\n",
       "      <td>1</td>\n",
       "      <td>NADJA MARINHO DOS SANTOS</td>\n",
       "      <td>280030</td>\n",
       "      <td>JOSE</td>\n",
       "    </tr>\n",
       "    <tr>\n",
       "      <th>3</th>\n",
       "      <td>4</td>\n",
       "      <td>CARLOS ALEXANDRE S RODRIGUES</td>\n",
       "      <td>02/18/2008</td>\n",
       "      <td>1</td>\n",
       "      <td>MIRIAN BARBOSA DE ARAUJO</td>\n",
       "      <td>280030</td>\n",
       "      <td>CARLOS</td>\n",
       "    </tr>\n",
       "    <tr>\n",
       "      <th>4</th>\n",
       "      <td>5</td>\n",
       "      <td>LEON WAGNER DE ARAUJO TELES</td>\n",
       "      <td>11/18/2007</td>\n",
       "      <td>1</td>\n",
       "      <td>MILLENE SARA ROCHA DOS REIS MOTA</td>\n",
       "      <td>280030</td>\n",
       "      <td>LEON</td>\n",
       "    </tr>\n",
       "  </tbody>\n",
       "</table>\n",
       "</div>"
      ],
      "text/plain": [
       "   cod                          nome          dn sexo  \\\n",
       "0    1           EDU PEREIRA TAVACHO  09/13/2007    1   \n",
       "1    2  JOSE IGOR SANTANA DOS SANTOS  05/17/2007    1   \n",
       "2    3     JOSE ITALO SANTANA SANTOS  09/17/2006    1   \n",
       "3    4  CARLOS ALEXANDRE S RODRIGUES  02/18/2008    1   \n",
       "4    5   LEON WAGNER DE ARAUJO TELES  11/18/2007    1   \n",
       "\n",
       "                                mae  cidade primeiro_nome  \n",
       "0          SIMONE ANTONIA RODRIGUES  280030           EDU  \n",
       "1           NICOLINA FATIMA MACHADO  280030          JOSE  \n",
       "2          NADJA MARINHO DOS SANTOS  280030          JOSE  \n",
       "3          MIRIAN BARBOSA DE ARAUJO  280030        CARLOS  \n",
       "4  MILLENE SARA ROCHA DOS REIS MOTA  280030          LEON  "
      ]
     },
     "execution_count": 17,
     "metadata": {},
     "output_type": "execute_result"
    }
   ],
   "source": [
    "df_b.head()"
   ]
  },
  {
   "cell_type": "code",
   "execution_count": 18,
   "metadata": {},
   "outputs": [
    {
     "data": {
      "text/plain": [
       "1    47\n",
       "2    35\n",
       "M    11\n",
       "F     7\n",
       "Name: sexo, dtype: int64"
      ]
     },
     "execution_count": 18,
     "metadata": {},
     "output_type": "execute_result"
    }
   ],
   "source": [
    "df_a['sexo'].value_counts()"
   ]
  },
  {
   "cell_type": "code",
   "execution_count": 19,
   "metadata": {},
   "outputs": [
    {
     "data": {
      "text/plain": [
       "1    15\n",
       "2     4\n",
       "M     1\n",
       "Name: sexo, dtype: int64"
      ]
     },
     "execution_count": 19,
     "metadata": {},
     "output_type": "execute_result"
    }
   ],
   "source": [
    "df_b['sexo'].value_counts()"
   ]
  },
  {
   "cell_type": "code",
   "execution_count": 37,
   "metadata": {},
   "outputs": [],
   "source": [
    "# Removing spaces:\n",
    "df_a.nome = df_a.nome.replace('\\s+', ' ', regex=True)\n",
    "df_b.nome = df_b.nome.replace('\\s+', ' ', regex=True)\n",
    "\n",
    "# Removing special characteres\n",
    "df_a.nome = df_a.nome.replace(r\"[^a-zA-Z ]+\", \" \",regex=True)\n",
    "df_b.nome = df_b.nome.replace(r\"[^a-zA-Z ]+\", \" \",regex=True)\n",
    "\n",
    "# Transforming date variables into date type\n",
    "df_a.dn = pd.to_datetime(df_a['dn'], errors='coerce')\n",
    "df_b.dn = pd.to_datetime(df_b['dn'], errors='coerce')\n",
    "\n",
    "#corrigir variável categorica sexo: M para 1/ F para 2\n",
    "df_a['sexo'].replace([\"M\",\"F\"],['1','2'],inplace=True)\n",
    "df_b['sexo'].replace([\"M\",\"F\"],['1','2'],inplace=True)\n",
    "\n",
    "\n",
    "#fix date in base b\n",
    "#df_b['dn'] = df_b['dn'].dt.strftime('%d/%d/%Y')\n",
    "\n"
   ]
  },
  {
   "cell_type": "code",
   "execution_count": 38,
   "metadata": {},
   "outputs": [
    {
     "data": {
      "text/plain": [
       "1    58\n",
       "2    42\n",
       "Name: sexo, dtype: int64"
      ]
     },
     "execution_count": 38,
     "metadata": {},
     "output_type": "execute_result"
    }
   ],
   "source": [
    "df_a['sexo'].value_counts()"
   ]
  },
  {
   "cell_type": "code",
   "execution_count": 39,
   "metadata": {},
   "outputs": [
    {
     "data": {
      "text/plain": [
       "1    16\n",
       "2     4\n",
       "Name: sexo, dtype: int64"
      ]
     },
     "execution_count": 39,
     "metadata": {},
     "output_type": "execute_result"
    }
   ],
   "source": [
    "df_b['sexo'].value_counts()"
   ]
  },
  {
   "cell_type": "code",
   "execution_count": 40,
   "metadata": {},
   "outputs": [
    {
     "data": {
      "text/plain": [
       "cod                       int64\n",
       "nome                     object\n",
       "dn               datetime64[ns]\n",
       "sexo                     object\n",
       "mae                      object\n",
       "cidade                    int64\n",
       "primeiro_nome            object\n",
       "dtype: object"
      ]
     },
     "execution_count": 40,
     "metadata": {},
     "output_type": "execute_result"
    }
   ],
   "source": [
    "df_a.dtypes"
   ]
  },
  {
   "cell_type": "code",
   "execution_count": 41,
   "metadata": {},
   "outputs": [
    {
     "data": {
      "text/plain": [
       "cod                       int64\n",
       "nome                     object\n",
       "dn               datetime64[ns]\n",
       "sexo                     object\n",
       "mae                      object\n",
       "cidade                    int64\n",
       "primeiro_nome            object\n",
       "dtype: object"
      ]
     },
     "execution_count": 41,
     "metadata": {},
     "output_type": "execute_result"
    }
   ],
   "source": [
    "df_b.dtypes"
   ]
  },
  {
   "cell_type": "code",
   "execution_count": 43,
   "metadata": {},
   "outputs": [
    {
     "data": {
      "text/html": [
       "<div>\n",
       "<style scoped>\n",
       "    .dataframe tbody tr th:only-of-type {\n",
       "        vertical-align: middle;\n",
       "    }\n",
       "\n",
       "    .dataframe tbody tr th {\n",
       "        vertical-align: top;\n",
       "    }\n",
       "\n",
       "    .dataframe thead th {\n",
       "        text-align: right;\n",
       "    }\n",
       "</style>\n",
       "<table border=\"1\" class=\"dataframe\">\n",
       "  <thead>\n",
       "    <tr style=\"text-align: right;\">\n",
       "      <th></th>\n",
       "      <th>cod</th>\n",
       "      <th>nome</th>\n",
       "      <th>dn</th>\n",
       "      <th>sexo</th>\n",
       "      <th>mae</th>\n",
       "      <th>cidade</th>\n",
       "      <th>primeiro_nome</th>\n",
       "    </tr>\n",
       "  </thead>\n",
       "  <tbody>\n",
       "    <tr>\n",
       "      <th>0</th>\n",
       "      <td>1</td>\n",
       "      <td>EDSON GOMES DOS SANTOS</td>\n",
       "      <td>2007-01-01</td>\n",
       "      <td>1</td>\n",
       "      <td>WEDILAINE VIEIRA BEZERRA</td>\n",
       "      <td>280030</td>\n",
       "      <td>EDSON</td>\n",
       "    </tr>\n",
       "    <tr>\n",
       "      <th>1</th>\n",
       "      <td>2</td>\n",
       "      <td>ALESSANDRA KAUAN  SOUZA DOS SANTOS</td>\n",
       "      <td>2008-01-02</td>\n",
       "      <td>2</td>\n",
       "      <td>VITORIA LUCIA AMORIM DE SOUZA</td>\n",
       "      <td>280740</td>\n",
       "      <td>ALESSANDRA</td>\n",
       "    </tr>\n",
       "    <tr>\n",
       "      <th>2</th>\n",
       "      <td>3</td>\n",
       "      <td>DAVI GON ALVES DA   ROCHA</td>\n",
       "      <td>2007-01-04</td>\n",
       "      <td>1</td>\n",
       "      <td>VILMA GOMES MOREIRA</td>\n",
       "      <td>280030</td>\n",
       "      <td>DAVI</td>\n",
       "    </tr>\n",
       "    <tr>\n",
       "      <th>3</th>\n",
       "      <td>4</td>\n",
       "      <td>ALISON DE JESUS TAVARES</td>\n",
       "      <td>2007-01-05</td>\n",
       "      <td>2</td>\n",
       "      <td>VERA LUCIA FRANCISCO PRECOPE</td>\n",
       "      <td>280030</td>\n",
       "      <td>ALISON</td>\n",
       "    </tr>\n",
       "    <tr>\n",
       "      <th>4</th>\n",
       "      <td>5</td>\n",
       "      <td>DANNYEL COSTA DE MORAES</td>\n",
       "      <td>2006-01-12</td>\n",
       "      <td>1</td>\n",
       "      <td>VANILDA TRINDADE PEREIRA</td>\n",
       "      <td>280030</td>\n",
       "      <td>DANNYEL</td>\n",
       "    </tr>\n",
       "  </tbody>\n",
       "</table>\n",
       "</div>"
      ],
      "text/plain": [
       "   cod                                nome         dn sexo  \\\n",
       "0    1              EDSON GOMES DOS SANTOS 2007-01-01    1   \n",
       "1    2  ALESSANDRA KAUAN  SOUZA DOS SANTOS 2008-01-02    2   \n",
       "2    3           DAVI GON ALVES DA   ROCHA 2007-01-04    1   \n",
       "3    4             ALISON DE JESUS TAVARES 2007-01-05    2   \n",
       "4    5             DANNYEL COSTA DE MORAES 2006-01-12    1   \n",
       "\n",
       "                             mae  cidade primeiro_nome  \n",
       "0       WEDILAINE VIEIRA BEZERRA  280030         EDSON  \n",
       "1  VITORIA LUCIA AMORIM DE SOUZA  280740    ALESSANDRA  \n",
       "2            VILMA GOMES MOREIRA  280030          DAVI  \n",
       "3   VERA LUCIA FRANCISCO PRECOPE  280030        ALISON  \n",
       "4       VANILDA TRINDADE PEREIRA  280030       DANNYEL  "
      ]
     },
     "execution_count": 43,
     "metadata": {},
     "output_type": "execute_result"
    }
   ],
   "source": [
    "df_a.head()"
   ]
  },
  {
   "cell_type": "code",
   "execution_count": null,
   "metadata": {},
   "outputs": [],
   "source": [
    "df_a.to_csv(\"D:/curso_linkage/dataset_a_preprocess.csv\",sep=\";\",index=False)\n",
    "df_b.to_csv(\"D:/curso_linkage/dataset_b_preprocess.csv\",sep=\";\",index=False)"
   ]
  }
 ],
 "metadata": {
  "kernelspec": {
   "display_name": "Python 2",
   "language": "python",
   "name": "python2"
  },
  "language_info": {
   "codemirror_mode": {
    "name": "ipython",
    "version": 2
   },
   "file_extension": ".py",
   "mimetype": "text/x-python",
   "name": "python",
   "nbconvert_exporter": "python",
   "pygments_lexer": "ipython2",
   "version": "2.7.15"
  }
 },
 "nbformat": 4,
 "nbformat_minor": 2
}
