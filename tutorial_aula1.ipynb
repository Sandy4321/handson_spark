{
 "cells": [
  {
   "cell_type": "markdown",
   "metadata": {},
   "source": [
    "### Chamada da biblioteca"
   ]
  },
  {
   "cell_type": "code",
   "execution_count": 21,
   "metadata": {},
   "outputs": [],
   "source": [
    "from pyspark.sql import SparkSession\n",
    "import pyspark.sql.functions as F"
   ]
  },
  {
   "cell_type": "markdown",
   "metadata": {},
   "source": [
    "### Inicializando o Sessão do Spark"
   ]
  },
  {
   "cell_type": "code",
   "execution_count": 5,
   "metadata": {},
   "outputs": [],
   "source": [
    "spark = SparkSession.builder \\\n",
    "                    .appName(\"Tutorial PySpark SQL\") \\\n",
    "                    .config(\"spark.some.config.option\", \"some-value\") \\\n",
    "                    .getOrCreate()"
   ]
  },
  {
   "cell_type": "markdown",
   "metadata": {},
   "source": [
    "### Lendo dataframe com spark DataFrame"
   ]
  },
  {
   "cell_type": "code",
   "execution_count": 8,
   "metadata": {},
   "outputs": [],
   "source": [
    "df = spark.read.csv('../data/DNPBA2017.csv', header=True)"
   ]
  },
  {
   "cell_type": "markdown",
   "metadata": {},
   "source": [
    "### Identificando a estrutura da base"
   ]
  },
  {
   "cell_type": "code",
   "execution_count": 9,
   "metadata": {
    "scrolled": true
   },
   "outputs": [
    {
     "name": "stdout",
     "output_type": "stream",
     "text": [
      "root\n",
      " |-- _c0: string (nullable = true)\n",
      " |-- NUMERODN: string (nullable = true)\n",
      " |-- CODINST: string (nullable = true)\n",
      " |-- ORIGEM: string (nullable = true)\n",
      " |-- NUMERODV: string (nullable = true)\n",
      " |-- PREFIXODN: string (nullable = true)\n",
      " |-- CODESTAB: string (nullable = true)\n",
      " |-- CODMUNNASC: string (nullable = true)\n",
      " |-- LOCNASC: string (nullable = true)\n",
      " |-- IDADEMAE: string (nullable = true)\n",
      " |-- ESTCIVMAE: string (nullable = true)\n",
      " |-- ESCMAE: string (nullable = true)\n",
      " |-- CODOCUPMAE: string (nullable = true)\n",
      " |-- QTDFILVIVO: string (nullable = true)\n",
      " |-- QTDFILMORT: string (nullable = true)\n",
      " |-- CODMUNRES: string (nullable = true)\n",
      " |-- GESTACAO: string (nullable = true)\n",
      " |-- GRAVIDEZ: string (nullable = true)\n",
      " |-- PARTO: string (nullable = true)\n",
      " |-- CONSULTAS: string (nullable = true)\n",
      " |-- DTNASC: string (nullable = true)\n",
      " |-- HORANASC: string (nullable = true)\n",
      " |-- SEXO: string (nullable = true)\n",
      " |-- APGAR1: string (nullable = true)\n",
      " |-- APGAR5: string (nullable = true)\n",
      " |-- RACACOR: string (nullable = true)\n",
      " |-- PESO: string (nullable = true)\n",
      " |-- IDANOMAL: string (nullable = true)\n",
      " |-- DTCADASTRO: string (nullable = true)\n",
      " |-- CODANOMAL: string (nullable = true)\n",
      " |-- NUMEROLOTE: string (nullable = true)\n",
      " |-- VERSAOSIST: string (nullable = true)\n",
      " |-- DTRECEBIM: string (nullable = true)\n",
      " |-- DIFDATA: string (nullable = true)\n",
      " |-- DTRECORIGA: string (nullable = true)\n",
      " |-- NATURALMAE: string (nullable = true)\n",
      " |-- CODMUNNATU: string (nullable = true)\n",
      " |-- CODUFNATU: string (nullable = true)\n",
      " |-- ESCMAE2010: string (nullable = true)\n",
      " |-- SERIESCMAE: string (nullable = true)\n",
      " |-- DTNASCMAE: string (nullable = true)\n",
      " |-- RACACORMAE: string (nullable = true)\n",
      " |-- QTDGESTANT: string (nullable = true)\n",
      " |-- QTDPARTNOR: string (nullable = true)\n",
      " |-- QTDPARTCES: string (nullable = true)\n",
      " |-- IDADEPAI: string (nullable = true)\n",
      " |-- DTULTMENST: string (nullable = true)\n",
      " |-- SEMAGESTAC: string (nullable = true)\n",
      " |-- TPMETESTIM: string (nullable = true)\n",
      " |-- CONSPRENAT: string (nullable = true)\n",
      " |-- MESPRENAT: string (nullable = true)\n",
      " |-- TPAPRESENT: string (nullable = true)\n",
      " |-- STTRABPART: string (nullable = true)\n",
      " |-- STCESPARTO: string (nullable = true)\n",
      " |-- TPNASCASSI: string (nullable = true)\n",
      " |-- TPFUNCRESP: string (nullable = true)\n",
      " |-- TPDOCRESP: string (nullable = true)\n",
      " |-- DTDECLARAC: string (nullable = true)\n",
      " |-- ESCMAEAGR1: string (nullable = true)\n",
      " |-- STDNEPIDEM: string (nullable = true)\n",
      " |-- STDNNOVA: string (nullable = true)\n",
      " |-- CODPAISRES: string (nullable = true)\n",
      " |-- TPROBSON: string (nullable = true)\n",
      " |-- PARIDADE: string (nullable = true)\n",
      " |-- KOTELCHUCK: string (nullable = true)\n",
      "\n"
     ]
    }
   ],
   "source": [
    "df.printSchema()"
   ]
  },
  {
   "cell_type": "markdown",
   "metadata": {},
   "source": [
    "### Quantificando os registros da base"
   ]
  },
  {
   "cell_type": "code",
   "execution_count": 10,
   "metadata": {},
   "outputs": [
    {
     "data": {
      "text/plain": [
       "203715"
      ]
     },
     "execution_count": 10,
     "metadata": {},
     "output_type": "execute_result"
    }
   ],
   "source": [
    "df.count()"
   ]
  },
  {
   "cell_type": "code",
   "execution_count": 12,
   "metadata": {
    "scrolled": true
   },
   "outputs": [
    {
     "data": {
      "text/plain": [
       "418"
      ]
     },
     "execution_count": 12,
     "metadata": {},
     "output_type": "execute_result"
    }
   ],
   "source": [
    "df.select('CODMUNRES').distinct().count()"
   ]
  },
  {
   "cell_type": "markdown",
   "metadata": {},
   "source": [
    "### Retornando sexo e data de nascimento dos nascidos"
   ]
  },
  {
   "cell_type": "code",
   "execution_count": 15,
   "metadata": {
    "scrolled": true
   },
   "outputs": [
    {
     "name": "stdout",
     "output_type": "stream",
     "text": [
      "+----+--------+\n",
      "|SEXO|  DTNASC|\n",
      "+----+--------+\n",
      "|   1|24012017|\n",
      "|   1|27032017|\n",
      "|   1|29052017|\n",
      "|   1|19012017|\n",
      "|   2|23012017|\n",
      "|   1|02032017|\n",
      "|   2|27032017|\n",
      "|   1|11062017|\n",
      "|   2|23022017|\n",
      "|   1|24012017|\n",
      "|   2|07022017|\n",
      "|   2|27032017|\n",
      "|   1|28032017|\n",
      "|   2|29032017|\n",
      "|   2|19052017|\n",
      "|   1|23032017|\n",
      "|   1|02012017|\n",
      "|   1|23012017|\n",
      "|   1|08012017|\n",
      "|   2|25042017|\n",
      "+----+--------+\n",
      "only showing top 20 rows\n",
      "\n"
     ]
    }
   ],
   "source": [
    "df.select('SEXO', 'DTNASC').show()"
   ]
  },
  {
   "cell_type": "markdown",
   "metadata": {},
   "source": [
    "### Retornando sexo e data de nascimento da 3 crianças mais velhas da base"
   ]
  },
  {
   "cell_type": "code",
   "execution_count": 18,
   "metadata": {},
   "outputs": [
    {
     "data": {
      "text/plain": [
       "[Row(SEXO='2', DTNASC='01012017'),\n",
       " Row(SEXO='1', DTNASC='01012017'),\n",
       " Row(SEXO='1', DTNASC='01012017')]"
      ]
     },
     "execution_count": 18,
     "metadata": {},
     "output_type": "execute_result"
    }
   ],
   "source": [
    "df.select('SEXO', 'DTNASC').orderBy('DTNASC').take(3)"
   ]
  },
  {
   "cell_type": "code",
   "execution_count": 19,
   "metadata": {},
   "outputs": [
    {
     "name": "stdout",
     "output_type": "stream",
     "text": [
      "+----+--------+\n",
      "|SEXO|  DTNASC|\n",
      "+----+--------+\n",
      "|   2|01012017|\n",
      "|   1|01012017|\n",
      "|   1|01012017|\n",
      "+----+--------+\n",
      "only showing top 3 rows\n",
      "\n"
     ]
    }
   ],
   "source": [
    "df.select('SEXO', 'DTNASC').orderBy('DTNASC').show(3)"
   ]
  },
  {
   "cell_type": "code",
   "execution_count": 29,
   "metadata": {},
   "outputs": [
    {
     "data": {
      "text/plain": [
       "Row(SEXO='2', DTNASC='01012017')"
      ]
     },
     "execution_count": 29,
     "metadata": {},
     "output_type": "execute_result"
    }
   ],
   "source": [
    "df.select('SEXO', 'DTNASC').orderBy('DTNASC').first()"
   ]
  },
  {
   "cell_type": "markdown",
   "metadata": {},
   "source": [
    "### Contar os nascimentos que ocorreram em 01 de 01 de 2017"
   ]
  },
  {
   "cell_type": "code",
   "execution_count": 22,
   "metadata": {
    "scrolled": true
   },
   "outputs": [
    {
     "data": {
      "text/plain": [
       "374"
      ]
     },
     "execution_count": 22,
     "metadata": {},
     "output_type": "execute_result"
    }
   ],
   "source": [
    "df.filter(F.col('DTNASC') == '01012017').count()"
   ]
  },
  {
   "cell_type": "code",
   "execution_count": 30,
   "metadata": {
    "scrolled": true
   },
   "outputs": [
    {
     "name": "stdout",
     "output_type": "stream",
     "text": [
      "+--------+----------------------------------------------------------+\n",
      "|  DTNASC|CASE WHEN (substring(DTNASC, 2, 4) = 07) THEN 1 ELSE 0 END|\n",
      "+--------+----------------------------------------------------------+\n",
      "|24012017|                                                         0|\n",
      "|27032017|                                                         0|\n",
      "|29052017|                                                         0|\n",
      "|19012017|                                                         0|\n",
      "|23012017|                                                         0|\n",
      "|02032017|                                                         0|\n",
      "|27032017|                                                         0|\n",
      "|11062017|                                                         0|\n",
      "|23022017|                                                         0|\n",
      "|24012017|                                                         0|\n",
      "|07022017|                                                         0|\n",
      "|27032017|                                                         0|\n",
      "|28032017|                                                         0|\n",
      "|29032017|                                                         0|\n",
      "|19052017|                                                         0|\n",
      "|23032017|                                                         0|\n",
      "|02012017|                                                         0|\n",
      "|23012017|                                                         0|\n",
      "|08012017|                                                         0|\n",
      "|25042017|                                                         0|\n",
      "+--------+----------------------------------------------------------+\n",
      "only showing top 20 rows\n",
      "\n"
     ]
    }
   ],
   "source": [
    "df.select('DTNASC', F.when(F.substring(F.col('DTNASC'), 2,4) == '07', 1).otherwise(0)).show()"
   ]
  },
  {
   "cell_type": "code",
   "execution_count": 38,
   "metadata": {
    "scrolled": true
   },
   "outputs": [
    {
     "name": "stdout",
     "output_type": "stream",
     "text": [
      "+--------+----------------------------------------------------------+\n",
      "|  DTNASC|CASE WHEN (substring(DTNASC, 3, 2) = 03) THEN 1 ELSE 0 END|\n",
      "+--------+----------------------------------------------------------+\n",
      "|24012017|                                                         0|\n",
      "|27032017|                                                         1|\n",
      "|29052017|                                                         0|\n",
      "|19012017|                                                         0|\n",
      "|23012017|                                                         0|\n",
      "|02032017|                                                         1|\n",
      "|27032017|                                                         1|\n",
      "|11062017|                                                         0|\n",
      "|23022017|                                                         0|\n",
      "|24012017|                                                         0|\n",
      "|07022017|                                                         0|\n",
      "|27032017|                                                         1|\n",
      "|28032017|                                                         1|\n",
      "|29032017|                                                         1|\n",
      "|19052017|                                                         0|\n",
      "|23032017|                                                         1|\n",
      "|02012017|                                                         0|\n",
      "|23012017|                                                         0|\n",
      "|08012017|                                                         0|\n",
      "|25042017|                                                         0|\n",
      "+--------+----------------------------------------------------------+\n",
      "only showing top 20 rows\n",
      "\n"
     ]
    }
   ],
   "source": [
    "df.select('DTNASC', F.when(F.substring(F.col('DTNASC'), 3,2) == '03', 1).otherwise(0)).show()"
   ]
  },
  {
   "cell_type": "code",
   "execution_count": 39,
   "metadata": {},
   "outputs": [],
   "source": [
    "df = df.withColumn('MESNASC', F.substring(F.col('DTNASC'), 3,2))"
   ]
  },
  {
   "cell_type": "code",
   "execution_count": 40,
   "metadata": {
    "scrolled": true
   },
   "outputs": [
    {
     "name": "stdout",
     "output_type": "stream",
     "text": [
      "root\n",
      " |-- _c0: string (nullable = true)\n",
      " |-- NUMERODN: string (nullable = true)\n",
      " |-- CODINST: string (nullable = true)\n",
      " |-- ORIGEM: string (nullable = true)\n",
      " |-- NUMERODV: string (nullable = true)\n",
      " |-- PREFIXODN: string (nullable = true)\n",
      " |-- CODESTAB: string (nullable = true)\n",
      " |-- CODMUNNASC: string (nullable = true)\n",
      " |-- LOCNASC: string (nullable = true)\n",
      " |-- IDADEMAE: string (nullable = true)\n",
      " |-- ESTCIVMAE: string (nullable = true)\n",
      " |-- ESCMAE: string (nullable = true)\n",
      " |-- CODOCUPMAE: string (nullable = true)\n",
      " |-- QTDFILVIVO: string (nullable = true)\n",
      " |-- QTDFILMORT: string (nullable = true)\n",
      " |-- CODMUNRES: string (nullable = true)\n",
      " |-- GESTACAO: string (nullable = true)\n",
      " |-- GRAVIDEZ: string (nullable = true)\n",
      " |-- PARTO: string (nullable = true)\n",
      " |-- CONSULTAS: string (nullable = true)\n",
      " |-- DTNASC: string (nullable = true)\n",
      " |-- HORANASC: string (nullable = true)\n",
      " |-- SEXO: string (nullable = true)\n",
      " |-- APGAR1: string (nullable = true)\n",
      " |-- APGAR5: string (nullable = true)\n",
      " |-- RACACOR: string (nullable = true)\n",
      " |-- PESO: string (nullable = true)\n",
      " |-- IDANOMAL: string (nullable = true)\n",
      " |-- DTCADASTRO: string (nullable = true)\n",
      " |-- CODANOMAL: string (nullable = true)\n",
      " |-- NUMEROLOTE: string (nullable = true)\n",
      " |-- VERSAOSIST: string (nullable = true)\n",
      " |-- DTRECEBIM: string (nullable = true)\n",
      " |-- DIFDATA: string (nullable = true)\n",
      " |-- DTRECORIGA: string (nullable = true)\n",
      " |-- NATURALMAE: string (nullable = true)\n",
      " |-- CODMUNNATU: string (nullable = true)\n",
      " |-- CODUFNATU: string (nullable = true)\n",
      " |-- ESCMAE2010: string (nullable = true)\n",
      " |-- SERIESCMAE: string (nullable = true)\n",
      " |-- DTNASCMAE: string (nullable = true)\n",
      " |-- RACACORMAE: string (nullable = true)\n",
      " |-- QTDGESTANT: string (nullable = true)\n",
      " |-- QTDPARTNOR: string (nullable = true)\n",
      " |-- QTDPARTCES: string (nullable = true)\n",
      " |-- IDADEPAI: string (nullable = true)\n",
      " |-- DTULTMENST: string (nullable = true)\n",
      " |-- SEMAGESTAC: string (nullable = true)\n",
      " |-- TPMETESTIM: string (nullable = true)\n",
      " |-- CONSPRENAT: string (nullable = true)\n",
      " |-- MESPRENAT: string (nullable = true)\n",
      " |-- TPAPRESENT: string (nullable = true)\n",
      " |-- STTRABPART: string (nullable = true)\n",
      " |-- STCESPARTO: string (nullable = true)\n",
      " |-- TPNASCASSI: string (nullable = true)\n",
      " |-- TPFUNCRESP: string (nullable = true)\n",
      " |-- TPDOCRESP: string (nullable = true)\n",
      " |-- DTDECLARAC: string (nullable = true)\n",
      " |-- ESCMAEAGR1: string (nullable = true)\n",
      " |-- STDNEPIDEM: string (nullable = true)\n",
      " |-- STDNNOVA: string (nullable = true)\n",
      " |-- CODPAISRES: string (nullable = true)\n",
      " |-- TPROBSON: string (nullable = true)\n",
      " |-- PARIDADE: string (nullable = true)\n",
      " |-- KOTELCHUCK: string (nullable = true)\n",
      " |-- MESNASC: string (nullable = true)\n",
      "\n"
     ]
    }
   ],
   "source": [
    "df.printSchema()"
   ]
  },
  {
   "cell_type": "code",
   "execution_count": 41,
   "metadata": {},
   "outputs": [
    {
     "name": "stdout",
     "output_type": "stream",
     "text": [
      "+-------+-----+\n",
      "|MESNASC|count|\n",
      "+-------+-----+\n",
      "|     01|15924|\n",
      "|     02|15787|\n",
      "|     03|18435|\n",
      "|     04|17821|\n",
      "|     05|18952|\n",
      "|     06|18041|\n",
      "|     07|17118|\n",
      "|     08|16643|\n",
      "|     09|15984|\n",
      "|     10|16423|\n",
      "|     11|16337|\n",
      "|     12|16250|\n",
      "+-------+-----+\n",
      "\n"
     ]
    }
   ],
   "source": [
    "df.groupBy('MESNASC').count().orderBy('MESNASC').show()"
   ]
  },
  {
   "cell_type": "code",
   "execution_count": 42,
   "metadata": {},
   "outputs": [
    {
     "name": "stdout",
     "output_type": "stream",
     "text": [
      "+-------+-----+-----------------+\n",
      "|MESNASC|count|                %|\n",
      "+-------+-----+-----------------+\n",
      "|     01|15924|7.816802886385392|\n",
      "|     02|15787|7.749552070294284|\n",
      "|     03|18435|9.049407260142846|\n",
      "|     04|17821|8.748005792406058|\n",
      "|     05|18952|9.303193186559655|\n",
      "|     06|18041|8.855999803647252|\n",
      "|     07|17118|8.402915838303512|\n",
      "|     08|16643|8.169746950396387|\n",
      "|     09|15984|7.846255798542081|\n",
      "|     10|16423|8.061752939155193|\n",
      "|     11|16337| 8.01953709839727|\n",
      "|     12|16250|7.976830375770071|\n",
      "+-------+-----+-----------------+\n",
      "\n"
     ]
    }
   ],
   "source": [
    "tot = df.count()\n",
    "df.groupBy('MESNASC').count().orderBy('MESNASC').withColumn('%', F.col('count')/tot*100).show()"
   ]
  },
  {
   "cell_type": "code",
   "execution_count": 45,
   "metadata": {
    "scrolled": true
   },
   "outputs": [
    {
     "name": "stdout",
     "output_type": "stream",
     "text": [
      "+-----------------------+--------+\n",
      "|substring(DTNASC, 3, 2)|  DTNASC|\n",
      "+-----------------------+--------+\n",
      "|                     01|24012017|\n",
      "|                     03|27032017|\n",
      "|                     05|29052017|\n",
      "|                     01|19012017|\n",
      "|                     01|23012017|\n",
      "|                     03|02032017|\n",
      "|                     03|27032017|\n",
      "|                     06|11062017|\n",
      "|                     02|23022017|\n",
      "|                     01|24012017|\n",
      "|                     02|07022017|\n",
      "|                     03|27032017|\n",
      "|                     03|28032017|\n",
      "|                     03|29032017|\n",
      "|                     05|19052017|\n",
      "|                     03|23032017|\n",
      "|                     01|02012017|\n",
      "|                     01|23012017|\n",
      "|                     01|08012017|\n",
      "|                     04|25042017|\n",
      "+-----------------------+--------+\n",
      "only showing top 20 rows\n",
      "\n"
     ]
    }
   ],
   "source": [
    "df.select(F.substring(F.col('DTNASC'), 3, 2), 'DTNASC').show() #a partir da posição 3 contando 2 casas"
   ]
  },
  {
   "cell_type": "code",
   "execution_count": 44,
   "metadata": {
    "scrolled": true
   },
   "outputs": [
    {
     "name": "stdout",
     "output_type": "stream",
     "text": [
      "+---+--------+\n",
      "|mes|  DTNASC|\n",
      "+---+--------+\n",
      "| 01|24012017|\n",
      "| 03|27032017|\n",
      "| 05|29052017|\n",
      "| 01|19012017|\n",
      "| 01|23012017|\n",
      "| 03|02032017|\n",
      "| 03|27032017|\n",
      "| 06|11062017|\n",
      "| 02|23022017|\n",
      "| 01|24012017|\n",
      "| 02|07022017|\n",
      "| 03|27032017|\n",
      "| 03|28032017|\n",
      "| 03|29032017|\n",
      "| 05|19052017|\n",
      "| 03|23032017|\n",
      "| 01|02012017|\n",
      "| 01|23012017|\n",
      "| 01|08012017|\n",
      "| 04|25042017|\n",
      "+---+--------+\n",
      "only showing top 20 rows\n",
      "\n"
     ]
    }
   ],
   "source": [
    "df.select(F.substring(F.col('DTNASC'), 3, 2).alias('mes'), 'DTNASC').show() #a partir da posição 3 contando 2 casas"
   ]
  },
  {
   "cell_type": "code",
   "execution_count": 46,
   "metadata": {},
   "outputs": [
    {
     "data": {
      "text/plain": [
       "203715"
      ]
     },
     "execution_count": 46,
     "metadata": {},
     "output_type": "execute_result"
    }
   ],
   "source": [
    "df.filter(F.col('CODMUNRES').startswith(\"29\")).count()"
   ]
  },
  {
   "cell_type": "code",
   "execution_count": 47,
   "metadata": {
    "collapsed": true
   },
   "outputs": [
    {
     "name": "stdout",
     "output_type": "stream",
     "text": [
      "+---------+\n",
      "|CODMUNRES|\n",
      "+---------+\n",
      "|   291110|\n",
      "|   291110|\n",
      "|   291955|\n",
      "|   291955|\n",
      "|   291955|\n",
      "|   290000|\n",
      "|   291955|\n",
      "|   290000|\n",
      "|   292440|\n",
      "|   292840|\n",
      "|   291110|\n",
      "|   291110|\n",
      "|   292840|\n",
      "|   291110|\n",
      "|   292840|\n",
      "|   291110|\n",
      "|   290590|\n",
      "|   290590|\n",
      "|   292440|\n",
      "|   291840|\n",
      "+---------+\n",
      "only showing top 20 rows\n",
      "\n"
     ]
    }
   ],
   "source": [
    "df.filter(F.col('CODMUNRES').startswith(\"29\")).select('CODMUNRES').show()"
   ]
  },
  {
   "cell_type": "code",
   "execution_count": 49,
   "metadata": {
    "scrolled": true
   },
   "outputs": [
    {
     "data": {
      "text/plain": [
       "35366"
      ]
     },
     "execution_count": 49,
     "metadata": {},
     "output_type": "execute_result"
    }
   ],
   "source": [
    "df.filter(F.col('CODMUNRES').endswith(\"2740\")).count()"
   ]
  },
  {
   "cell_type": "code",
   "execution_count": 50,
   "metadata": {
    "scrolled": true
   },
   "outputs": [
    {
     "name": "stdout",
     "output_type": "stream",
     "text": [
      "+---------+\n",
      "|CODMUNRES|\n",
      "+---------+\n",
      "|   292740|\n",
      "|   292740|\n",
      "|   292740|\n",
      "|   292740|\n",
      "|   292740|\n",
      "|   292740|\n",
      "|   292740|\n",
      "|   292740|\n",
      "|   292740|\n",
      "|   292740|\n",
      "|   292740|\n",
      "|   292740|\n",
      "|   292740|\n",
      "|   292740|\n",
      "|   292740|\n",
      "|   292740|\n",
      "|   292740|\n",
      "|   292740|\n",
      "|   292740|\n",
      "|   292740|\n",
      "+---------+\n",
      "only showing top 20 rows\n",
      "\n"
     ]
    }
   ],
   "source": [
    "df.filter(F.col('CODMUNRES').endswith(\"2740\")).select('CODMUNRES').show()"
   ]
  },
  {
   "cell_type": "code",
   "execution_count": 52,
   "metadata": {},
   "outputs": [
    {
     "name": "stdout",
     "output_type": "stream",
     "text": [
      "+-------+------------------+\n",
      "|summary|              PESO|\n",
      "+-------+------------------+\n",
      "|  count|            203715|\n",
      "|   mean|3198.3266173979227|\n",
      "| stddev| 575.2462242684788|\n",
      "|    min|              0110|\n",
      "|    max|                NA|\n",
      "+-------+------------------+\n",
      "\n"
     ]
    }
   ],
   "source": [
    "df.describe('PESO').show()"
   ]
  },
  {
   "cell_type": "code",
   "execution_count": 54,
   "metadata": {
    "scrolled": true
   },
   "outputs": [
    {
     "data": {
      "text/plain": [
       "70"
      ]
     },
     "execution_count": 54,
     "metadata": {},
     "output_type": "execute_result"
    }
   ],
   "source": [
    "df.filter(F.col('PESO')=='NA').count()"
   ]
  },
  {
   "cell_type": "code",
   "execution_count": 55,
   "metadata": {
    "scrolled": true
   },
   "outputs": [
    {
     "data": {
      "text/plain": [
       "0"
      ]
     },
     "execution_count": 55,
     "metadata": {},
     "output_type": "execute_result"
    }
   ],
   "source": [
    "df.filter(F.col('PESO').isNull()).count()"
   ]
  },
  {
   "cell_type": "code",
   "execution_count": 57,
   "metadata": {
    "scrolled": true
   },
   "outputs": [],
   "source": [
    "df =df.withColumn('NOVO_PESO', F.when(F.col('PESO') == 'NA', None).otherwise(F.col('PESO')))"
   ]
  },
  {
   "cell_type": "code",
   "execution_count": 59,
   "metadata": {},
   "outputs": [
    {
     "name": "stdout",
     "output_type": "stream",
     "text": [
      "+----+---------+\n",
      "|PESO|NOVO_PESO|\n",
      "+----+---------+\n",
      "|  NA|     null|\n",
      "|  NA|     null|\n",
      "|  NA|     null|\n",
      "|  NA|     null|\n",
      "|  NA|     null|\n",
      "|  NA|     null|\n",
      "|  NA|     null|\n",
      "|  NA|     null|\n",
      "|  NA|     null|\n",
      "|  NA|     null|\n",
      "|  NA|     null|\n",
      "|  NA|     null|\n",
      "|  NA|     null|\n",
      "|  NA|     null|\n",
      "|  NA|     null|\n",
      "|  NA|     null|\n",
      "|  NA|     null|\n",
      "|  NA|     null|\n",
      "|  NA|     null|\n",
      "|  NA|     null|\n",
      "+----+---------+\n",
      "only showing top 20 rows\n",
      "\n"
     ]
    }
   ],
   "source": [
    "df.filter(F.col('PESO')=='NA').select('PESO', 'NOVO_PESO').show()"
   ]
  },
  {
   "cell_type": "code",
   "execution_count": 61,
   "metadata": {},
   "outputs": [
    {
     "name": "stdout",
     "output_type": "stream",
     "text": [
      "+----+---------+\n",
      "|PESO|NOVO_PESO|\n",
      "+----+---------+\n",
      "|3150|     3150|\n",
      "|3300|     3300|\n",
      "|3330|     3330|\n",
      "|3610|     3610|\n",
      "|3770|     3770|\n",
      "|3140|     3140|\n",
      "|2775|     2775|\n",
      "|2490|     2490|\n",
      "|3450|     3450|\n",
      "|3270|     3270|\n",
      "|3000|     3000|\n",
      "|3200|     3200|\n",
      "|3250|     3250|\n",
      "|3600|     3600|\n",
      "|3650|     3650|\n",
      "|3190|     3190|\n",
      "|2820|     2820|\n",
      "|1900|     1900|\n",
      "|3800|     3800|\n",
      "|3130|     3130|\n",
      "+----+---------+\n",
      "only showing top 20 rows\n",
      "\n"
     ]
    }
   ],
   "source": [
    "df.filter(F.col('PESO')!='NA').select('PESO', 'NOVO_PESO').show()"
   ]
  },
  {
   "cell_type": "code",
   "execution_count": 62,
   "metadata": {},
   "outputs": [],
   "source": [
    "df = df.withColumnRenamed('NOVO_PESO', 'PESO_PP') #PESO PRE PROCESSADO"
   ]
  },
  {
   "cell_type": "code",
   "execution_count": 63,
   "metadata": {
    "scrolled": true
   },
   "outputs": [
    {
     "name": "stdout",
     "output_type": "stream",
     "text": [
      "root\n",
      " |-- _c0: string (nullable = true)\n",
      " |-- NUMERODN: string (nullable = true)\n",
      " |-- CODINST: string (nullable = true)\n",
      " |-- ORIGEM: string (nullable = true)\n",
      " |-- NUMERODV: string (nullable = true)\n",
      " |-- PREFIXODN: string (nullable = true)\n",
      " |-- CODESTAB: string (nullable = true)\n",
      " |-- CODMUNNASC: string (nullable = true)\n",
      " |-- LOCNASC: string (nullable = true)\n",
      " |-- IDADEMAE: string (nullable = true)\n",
      " |-- ESTCIVMAE: string (nullable = true)\n",
      " |-- ESCMAE: string (nullable = true)\n",
      " |-- CODOCUPMAE: string (nullable = true)\n",
      " |-- QTDFILVIVO: string (nullable = true)\n",
      " |-- QTDFILMORT: string (nullable = true)\n",
      " |-- CODMUNRES: string (nullable = true)\n",
      " |-- GESTACAO: string (nullable = true)\n",
      " |-- GRAVIDEZ: string (nullable = true)\n",
      " |-- PARTO: string (nullable = true)\n",
      " |-- CONSULTAS: string (nullable = true)\n",
      " |-- DTNASC: string (nullable = true)\n",
      " |-- HORANASC: string (nullable = true)\n",
      " |-- SEXO: string (nullable = true)\n",
      " |-- APGAR1: string (nullable = true)\n",
      " |-- APGAR5: string (nullable = true)\n",
      " |-- RACACOR: string (nullable = true)\n",
      " |-- PESO: string (nullable = true)\n",
      " |-- IDANOMAL: string (nullable = true)\n",
      " |-- DTCADASTRO: string (nullable = true)\n",
      " |-- CODANOMAL: string (nullable = true)\n",
      " |-- NUMEROLOTE: string (nullable = true)\n",
      " |-- VERSAOSIST: string (nullable = true)\n",
      " |-- DTRECEBIM: string (nullable = true)\n",
      " |-- DIFDATA: string (nullable = true)\n",
      " |-- DTRECORIGA: string (nullable = true)\n",
      " |-- NATURALMAE: string (nullable = true)\n",
      " |-- CODMUNNATU: string (nullable = true)\n",
      " |-- CODUFNATU: string (nullable = true)\n",
      " |-- ESCMAE2010: string (nullable = true)\n",
      " |-- SERIESCMAE: string (nullable = true)\n",
      " |-- DTNASCMAE: string (nullable = true)\n",
      " |-- RACACORMAE: string (nullable = true)\n",
      " |-- QTDGESTANT: string (nullable = true)\n",
      " |-- QTDPARTNOR: string (nullable = true)\n",
      " |-- QTDPARTCES: string (nullable = true)\n",
      " |-- IDADEPAI: string (nullable = true)\n",
      " |-- DTULTMENST: string (nullable = true)\n",
      " |-- SEMAGESTAC: string (nullable = true)\n",
      " |-- TPMETESTIM: string (nullable = true)\n",
      " |-- CONSPRENAT: string (nullable = true)\n",
      " |-- MESPRENAT: string (nullable = true)\n",
      " |-- TPAPRESENT: string (nullable = true)\n",
      " |-- STTRABPART: string (nullable = true)\n",
      " |-- STCESPARTO: string (nullable = true)\n",
      " |-- TPNASCASSI: string (nullable = true)\n",
      " |-- TPFUNCRESP: string (nullable = true)\n",
      " |-- TPDOCRESP: string (nullable = true)\n",
      " |-- DTDECLARAC: string (nullable = true)\n",
      " |-- ESCMAEAGR1: string (nullable = true)\n",
      " |-- STDNEPIDEM: string (nullable = true)\n",
      " |-- STDNNOVA: string (nullable = true)\n",
      " |-- CODPAISRES: string (nullable = true)\n",
      " |-- TPROBSON: string (nullable = true)\n",
      " |-- PARIDADE: string (nullable = true)\n",
      " |-- KOTELCHUCK: string (nullable = true)\n",
      " |-- MESNASC: string (nullable = true)\n",
      " |-- PESO_PP: string (nullable = true)\n",
      "\n"
     ]
    }
   ],
   "source": [
    "df.printSchema()"
   ]
  },
  {
   "cell_type": "code",
   "execution_count": 64,
   "metadata": {
    "scrolled": true
   },
   "outputs": [
    {
     "name": "stdout",
     "output_type": "stream",
     "text": [
      "+-------+------------------+\n",
      "|summary|           PESO_PP|\n",
      "+-------+------------------+\n",
      "|  count|            203645|\n",
      "|   mean|3198.3266173979227|\n",
      "| stddev| 575.2462242684788|\n",
      "|    min|              0110|\n",
      "|    max|              6710|\n",
      "+-------+------------------+\n",
      "\n"
     ]
    }
   ],
   "source": [
    "df.describe('PESO_PP').show()"
   ]
  },
  {
   "cell_type": "code",
   "execution_count": 68,
   "metadata": {},
   "outputs": [
    {
     "data": {
      "text/plain": [
       "203645"
      ]
     },
     "execution_count": 68,
     "metadata": {},
     "output_type": "execute_result"
    }
   ],
   "source": [
    "df.filter(F.col('PESO_PP').between('0110', '6710' )).count()"
   ]
  },
  {
   "cell_type": "code",
   "execution_count": 69,
   "metadata": {},
   "outputs": [
    {
     "data": {
      "text/plain": [
       "804"
      ]
     },
     "execution_count": 69,
     "metadata": {},
     "output_type": "execute_result"
    }
   ],
   "source": [
    "df.filter(F.col('PESO_PP').between('0110', '0710')).count()"
   ]
  },
  {
   "cell_type": "code",
   "execution_count": 70,
   "metadata": {
    "scrolled": true
   },
   "outputs": [
    {
     "name": "stdout",
     "output_type": "stream",
     "text": [
      "+-------+\n",
      "|PESO_PP|\n",
      "+-------+\n",
      "|   0160|\n",
      "|   0695|\n",
      "|   0445|\n",
      "|   0385|\n",
      "|   0675|\n",
      "|   0335|\n",
      "|   0535|\n",
      "|   0660|\n",
      "|   0470|\n",
      "|   0690|\n",
      "|   0360|\n",
      "|   0315|\n",
      "|   0540|\n",
      "|   0440|\n",
      "|   0550|\n",
      "|   0625|\n",
      "|   0605|\n",
      "|   0550|\n",
      "|   0390|\n",
      "|   0358|\n",
      "+-------+\n",
      "only showing top 20 rows\n",
      "\n"
     ]
    }
   ],
   "source": [
    "df.filter(F.col('PESO_PP').between('0110', '0710')).select('PESO_PP').show()"
   ]
  },
  {
   "cell_type": "code",
   "execution_count": 75,
   "metadata": {
    "scrolled": true
   },
   "outputs": [
    {
     "name": "stdout",
     "output_type": "stream",
     "text": [
      "+-------+\n",
      "|PESO_PP|\n",
      "+-------+\n",
      "|   0710|\n",
      "|   0710|\n",
      "|   0710|\n",
      "|   0710|\n",
      "|   0710|\n",
      "|   0710|\n",
      "|   0710|\n",
      "|   0706|\n",
      "|   0705|\n",
      "|   0705|\n",
      "|   0705|\n",
      "|   0703|\n",
      "|   0700|\n",
      "|   0700|\n",
      "|   0700|\n",
      "|   0700|\n",
      "|   0700|\n",
      "|   0700|\n",
      "|   0700|\n",
      "|   0700|\n",
      "+-------+\n",
      "only showing top 20 rows\n",
      "\n"
     ]
    }
   ],
   "source": [
    "df.filter((F.col('PESO_PP').between('0110', '0710'))).select('PESO_PP').orderBy(F.col('PESO_PP').desc()).show()"
   ]
  },
  {
   "cell_type": "code",
   "execution_count": null,
   "metadata": {},
   "outputs": [],
   "source": [
    "# Desafio"
   ]
  },
  {
   "cell_type": "code",
   "execution_count": null,
   "metadata": {},
   "outputs": [],
   "source": []
  }
 ],
 "metadata": {
  "kernelspec": {
   "display_name": "Python 2",
   "language": "python",
   "name": "python2"
  },
  "language_info": {
   "codemirror_mode": {
    "name": "ipython",
    "version": 2
   },
   "file_extension": ".py",
   "mimetype": "text/x-python",
   "name": "python",
   "nbconvert_exporter": "python",
   "pygments_lexer": "ipython2",
   "version": "2.7.15"
  }
 },
 "nbformat": 4,
 "nbformat_minor": 2
}
